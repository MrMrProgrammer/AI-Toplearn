{
 "cells": [
  {
   "cell_type": "markdown",
   "metadata": {},
   "source": [
    "# Confusion Matrix\n",
    "\n",
    "|                    | Actual YES | Actual NO |\n",
    "|--------------------|--------------------|--------------------|\n",
    "| **Predicted YES**| True Positive (TP) | False Positive (FP) |\n",
    "| **Predicted NO**|  False Negative (FN) | True Negative (TN) |"
   ]
  }
 ],
 "metadata": {
  "language_info": {
   "name": "python"
  }
 },
 "nbformat": 4,
 "nbformat_minor": 2
}
