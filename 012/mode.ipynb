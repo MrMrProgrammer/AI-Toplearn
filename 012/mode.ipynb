{
 "cells": [
  {
   "cell_type": "code",
   "execution_count": 15,
   "metadata": {},
   "outputs": [],
   "source": [
    "import numpy as np\n",
    "from scipy import stats\n",
    "import matplotlib.pyplot as plt"
   ]
  },
  {
   "cell_type": "code",
   "execution_count": 23,
   "metadata": {},
   "outputs": [
    {
     "data": {
      "text/plain": [
       "array([36, 30, 25, 57, 60, 47, 30, 55, 49, 43, 26, 42, 47, 31, 23, 40, 29,\n",
       "       47, 49, 24, 50, 24, 32, 19, 44, 50, 45, 50, 48, 41, 23, 60, 20, 51,\n",
       "       33, 33, 66, 28, 25, 44, 51, 68, 38, 20, 45, 23, 52, 51, 48, 32, 49,\n",
       "       61, 33, 41, 40, 69, 56, 25, 19, 24, 44, 28, 35, 23, 35, 64, 34, 26,\n",
       "       51, 53, 67, 24, 23, 49, 68, 61, 20, 52, 45, 31, 59, 21, 28, 56, 49,\n",
       "       40, 52, 19, 49, 47, 61, 49, 56, 27, 51, 26, 65, 61, 66, 36, 22, 69,\n",
       "       52, 46, 24, 32, 50, 30, 65, 33, 68, 33, 54, 39, 45, 36, 60, 47, 18,\n",
       "       40, 68, 52, 41, 38, 18, 24, 56, 61, 53, 18, 27, 29, 21, 38, 28, 36,\n",
       "       32, 57, 31, 63, 45, 60, 69, 37, 33, 55, 19, 66, 38, 26, 62, 39, 22,\n",
       "       22, 26, 58, 62, 57, 61, 44, 28, 68, 35, 21, 56, 43, 18, 19, 40, 45,\n",
       "       67, 30, 68, 62, 55, 67, 24, 41, 62, 32, 30, 39, 30, 30, 59, 31, 60,\n",
       "       22, 59, 23, 59, 33, 68, 33, 69, 56, 55, 44, 32, 39, 43, 41, 55, 26,\n",
       "       59, 53, 21, 50, 53, 44, 42, 27, 22, 30, 49, 43, 61, 26, 42, 63, 41,\n",
       "       26, 39, 46, 38, 45, 21, 39, 26, 42, 52, 27, 64, 46, 45, 69, 24, 35,\n",
       "       51, 46, 41, 57, 36, 31, 50, 44, 42, 27, 59, 57, 25, 29, 19, 59, 52,\n",
       "       43, 62, 21, 22, 63, 45, 69, 28, 38, 57, 20, 32, 55, 25, 45, 51, 63,\n",
       "       43, 35, 50, 42, 43, 44, 61, 68, 68, 29, 45, 45, 44, 31, 46, 25, 65,\n",
       "       60, 21, 60, 50, 38, 65, 65, 56, 26, 46, 28, 44, 36, 47, 64, 35, 34,\n",
       "       67, 68, 23, 41, 60, 18, 42, 46, 54, 47, 24, 21, 52, 37, 61, 36, 57,\n",
       "       53, 25, 23, 50, 50, 44, 62, 27, 28, 63, 27, 64, 18, 37, 31, 69, 36,\n",
       "       34, 28, 18, 26, 46, 58, 67, 48, 34, 22, 45, 24, 42, 45, 60, 47, 20,\n",
       "       62, 66, 31, 41, 63, 52, 69, 69, 50, 50, 48, 48, 20, 38, 18, 69, 20,\n",
       "       63, 44, 41, 43, 44, 50, 49, 68, 54, 58, 42, 33, 40, 62, 36, 27, 42,\n",
       "       64, 18, 20, 59, 43, 34, 32, 67, 26, 44, 53, 44, 23, 60, 33, 18, 57,\n",
       "       67, 35, 64, 61, 48, 34, 48, 22, 68, 51, 21, 30, 60, 55, 23, 20, 42,\n",
       "       47, 49, 43, 32, 44, 42, 31, 51, 35, 37, 24, 62, 34, 40, 23, 31, 23,\n",
       "       50, 31, 57, 32, 45, 51, 59, 24, 68, 64, 37, 57, 62, 59, 59, 42, 23,\n",
       "       43, 18, 21, 38, 58, 19, 47, 49, 52, 37, 62, 56, 33, 64, 33, 27, 53,\n",
       "       63, 56, 54, 36, 34, 31, 54, 39, 20, 24, 68, 61, 64, 35, 59, 34, 21])"
      ]
     },
     "execution_count": 23,
     "metadata": {},
     "output_type": "execute_result"
    }
   ],
   "source": [
    "ages = np.random.randint(18, high=70, size=493)\n",
    "ages"
   ]
  },
  {
   "cell_type": "code",
   "execution_count": 24,
   "metadata": {},
   "outputs": [
    {
     "data": {
      "text/plain": [
       "ModeResult(mode=44, count=16)"
      ]
     },
     "execution_count": 24,
     "metadata": {},
     "output_type": "execute_result"
    }
   ],
   "source": [
    "stats.mode(ages)"
   ]
  },
  {
   "cell_type": "code",
   "execution_count": 25,
   "metadata": {},
   "outputs": [
    {
     "data": {
      "image/png": "[encoded data removed]",
      "text/plain": [
       "<Figure size 640x480 with 1 Axes>"
      ]
     },
     "metadata": {},
     "output_type": "display_data"
    }
   ],
   "source": [
    "plt.hist(ages, 100)\n",
    "plt.show()"
   ]
  }
 ],
 "metadata": {
  "kernelspec": {
   "display_name": "AI-venv",
   "language": "python",
   "name": "python3"
  },
  "language_info": {
   "codemirror_mode": {
    "name": "ipython",
    "version": 3
   },
   "file_extension": ".py",
   "mimetype": "text/x-python",
   "name": "python",
   "nbconvert_exporter": "python",
   "pygments_lexer": "ipython3",
   "version": "3.12.0"
  }
 },
 "nbformat": 4,
 "nbformat_minor": 2
}
