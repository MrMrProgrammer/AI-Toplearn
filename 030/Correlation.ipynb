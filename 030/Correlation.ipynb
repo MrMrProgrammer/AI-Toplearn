{
 "cells": [
  {
   "cell_type": "code",
   "execution_count": 1,
   "metadata": {},
   "outputs": [],
   "source": [
    "import numpy as np"
   ]
  },
  {
   "cell_type": "markdown",
   "metadata": {},
   "source": [
    "Covariance محاسبه"
   ]
  },
  {
   "cell_type": "code",
   "execution_count": 2,
   "metadata": {},
   "outputs": [
    {
     "name": "stdout",
     "output_type": "stream",
     "text": [
      "-11.700793797207966\n"
     ]
    }
   ],
   "source": [
    "def de_mean(values):\n",
    "    values_mean = np.mean(values)\n",
    "    return [xi - values_mean for xi in values]\n",
    "\n",
    "def covariance(a, b):\n",
    "    n = len(a)\n",
    "    return np.dot(de_mean(a), de_mean(b)) / (n-1)\n",
    "\n",
    "page_speed = np.random.normal(3.0, 1.0, 1000)\n",
    "page_visits = np.random.normal(50.0, 10.0, 1000) / page_speed\n",
    "\n",
    "print(covariance(page_speed, page_visits))"
   ]
  },
  {
   "cell_type": "markdown",
   "metadata": {},
   "source": [
    "(به صورت دستی) Correlation محاسبه"
   ]
  },
  {
   "cell_type": "code",
   "execution_count": 4,
   "metadata": {},
   "outputs": [
    {
     "data": {
      "text/plain": [
       "-0.49337233164421207"
      ]
     },
     "execution_count": 4,
     "metadata": {},
     "output_type": "execute_result"
    }
   ],
   "source": [
    "def correlation(x, y):\n",
    "    std_x = x.std()\n",
    "    std_y = y.std()\n",
    "    return covariance(x, y) / std_x / std_y\n",
    "\n",
    "correlation(page_speed, page_visits)"
   ]
  },
  {
   "cell_type": "markdown",
   "metadata": {},
   "source": [
    "(Numpy با استفاده از) Correlation محاسبه"
   ]
  },
  {
   "cell_type": "code",
   "execution_count": 5,
   "metadata": {},
   "outputs": [
    {
     "data": {
      "text/plain": [
       "array([[ 1.        , -0.49287896],\n",
       "       [-0.49287896,  1.        ]])"
      ]
     },
     "execution_count": 5,
     "metadata": {},
     "output_type": "execute_result"
    }
   ],
   "source": [
    "np.corrcoef(page_speed, page_visits)"
   ]
  }
 ],
 "metadata": {
  "kernelspec": {
   "display_name": "AI-venv",
   "language": "python",
   "name": "python3"
  },
  "language_info": {
   "codemirror_mode": {
    "name": "ipython",
    "version": 3
   },
   "file_extension": ".py",
   "mimetype": "text/x-python",
   "name": "python",
   "nbconvert_exporter": "python",
   "pygments_lexer": "ipython3",
   "version": "3.12.0"
  }
 },
 "nbformat": 4,
 "nbformat_minor": 2
}
