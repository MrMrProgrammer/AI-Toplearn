{
 "cells": [
  {
   "cell_type": "code",
   "execution_count": 2,
   "metadata": {},
   "outputs": [],
   "source": [
    "from numpy import random\n",
    "random.seed(0)"
   ]
  },
  {
   "cell_type": "markdown",
   "metadata": {},
   "source": [
    "مقداردهی اولیه برای تعداد کل و تعداد سفارش ها بر اساس سن"
   ]
  },
  {
   "cell_type": "code",
   "execution_count": 3,
   "metadata": {},
   "outputs": [],
   "source": [
    "totals = {20:0, 30:0, 40:0, 50:0, 60:0, 70:0}\n",
    "purchases = {20:0, 30:0, 40:0, 50:0, 60:0, 70:0}\n",
    "totalPurchases = 0"
   ]
  },
  {
   "cell_type": "markdown",
   "metadata": {},
   "source": [
    ".ایجاد شود [0-1] در اینجا یک سن انتخاب می شود و تقسیم بر صد می شود تا یک عدد در بازه\n",
    ".سپس اگر عدد رندوم ایجاد شده از به درصد تبدیل شده ی انتخاب قبلی کوچک تر بود به آن اضافه می شود"
   ]
  },
  {
   "cell_type": "code",
   "execution_count": 4,
   "metadata": {},
   "outputs": [],
   "source": [
    "for person in range(100000):\n",
    "    age = random.choice([20,30,40,50,60,70])\n",
    "    purchaseProbability = float(age) / 100.0\n",
    "    totals[age] += 1\n",
    "\n",
    "    if random.random() < purchaseProbability:\n",
    "        totalPurchases += 1\n",
    "        purchases[age] += 1"
   ]
  },
  {
   "cell_type": "code",
   "execution_count": 19,
   "metadata": {},
   "outputs": [
    {
     "name": "stdout",
     "output_type": "stream",
     "text": [
      "totals : {20: 16576, 30: 16619, 40: 16632, 50: 16805, 60: 16664, 70: 16704}\n",
      "purchases : {20: 3392, 30: 4974, 40: 6670, 50: 8319, 60: 9944, 70: 11713}\n",
      "totalPurchases : 45012\n"
     ]
    }
   ],
   "source": [
    "print(f'totals : {totals}')\n",
    "\n",
    "print(f'purchases : {purchases}')\n",
    "\n",
    "print(f'totalPurchases : {totalPurchases}')"
   ]
  },
  {
   "cell_type": "markdown",
   "metadata": {},
   "source": [
    "باعث می شود تا اعداد یکسان تولید شود seed() استفاده از دستور"
   ]
  },
  {
   "cell_type": "code",
   "execution_count": 16,
   "metadata": {},
   "outputs": [
    {
     "name": "stdout",
     "output_type": "stream",
     "text": [
      "0.771320643266746\n",
      "0.771320643266746\n"
     ]
    }
   ],
   "source": [
    "random.seed(10)\n",
    "print(random.random())\n",
    "\n",
    "random.seed(10)\n",
    "print(random.random())"
   ]
  }
 ],
 "metadata": {
  "kernelspec": {
   "display_name": "AI-venv",
   "language": "python",
   "name": "python3"
  },
  "language_info": {
   "codemirror_mode": {
    "name": "ipython",
    "version": 3
   },
   "file_extension": ".py",
   "mimetype": "text/x-python",
   "name": "python",
   "nbconvert_exporter": "python",
   "pygments_lexer": "ipython3",
   "version": "3.12.0"
  }
 },
 "nbformat": 4,
 "nbformat_minor": 2
}
